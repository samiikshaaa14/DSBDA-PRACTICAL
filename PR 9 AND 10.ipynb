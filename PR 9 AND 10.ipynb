{
 "cells": [
  {
   "cell_type": "code",
   "execution_count": 3,
   "id": "80619262",
   "metadata": {},
   "outputs": [],
   "source": [
    "import nltk\n",
    "from nltk.tokenize import word_tokenize\n",
    "from nltk.corpus import stopwords\n",
    "from nltk.stem import PorterStemmer, WordNetLemmatizer\n",
    "from nltk.probability import FreqDist\n",
    "from nltk import pos_tag\n",
    "from nltk.corpus import wordnet as wn\n",
    "from sklearn.feature_extraction.text import TfidfVectorizer"
   ]
  },
  {
   "cell_type": "code",
   "execution_count": 4,
   "id": "31f7ac86",
   "metadata": {},
   "outputs": [
    {
     "name": "stderr",
     "output_type": "stream",
     "text": [
      "[nltk_data] Downloading package wordnet to\n",
      "[nltk_data]     /Users/samiksha/nltk_data...\n",
      "[nltk_data]   Package wordnet is already up-to-date!\n"
     ]
    },
    {
     "data": {
      "text/plain": [
       "True"
      ]
     },
     "execution_count": 4,
     "metadata": {},
     "output_type": "execute_result"
    }
   ],
   "source": [
    "import nltk\n",
    "nltk.download('wordnet')"
   ]
  },
  {
   "cell_type": "code",
   "execution_count": 5,
   "id": "4a992c79",
   "metadata": {},
   "outputs": [],
   "source": [
    "document =\"The quick brown fox jumps over the lazy dog. The dog is lazy, but the fox is quick.\" "
   ]
  },
  {
   "cell_type": "code",
   "execution_count": 6,
   "id": "bdb62270",
   "metadata": {},
   "outputs": [],
   "source": [
    "tokens = word_tokenize(document)"
   ]
  },
  {
   "cell_type": "code",
   "execution_count": 7,
   "id": "8163ee95",
   "metadata": {},
   "outputs": [],
   "source": [
    "stop_words = set(stopwords.words('english'))\n",
    "filtered_tokens = [token for token in tokens if token.lower() not in stop_words]\n"
   ]
  },
  {
   "cell_type": "code",
   "execution_count": 8,
   "id": "fad6efa2",
   "metadata": {},
   "outputs": [],
   "source": [
    "pos_tags = pos_tag(filtered_tokens)"
   ]
  },
  {
   "cell_type": "code",
   "execution_count": 9,
   "id": "1f0b8654",
   "metadata": {},
   "outputs": [],
   "source": [
    "ps = PorterStemmer()\n",
    "stemmed_tokens = [ps.stem(token) for token in filtered_tokens]"
   ]
  },
  {
   "cell_type": "code",
   "execution_count": 10,
   "id": "b61b697b",
   "metadata": {},
   "outputs": [],
   "source": [
    "lemmatizer = WordNetLemmatizer()\n",
    "lemmatized_tokens = []\n",
    "for token, tag in pos_tags:\n",
    "    if tag.startswith('NN'):\n",
    "        pos = wn.NOUN\n",
    "    elif tag.startswith('VB'):\n",
    "        pos = wn.VERB\n",
    "    elif tag.startswith('JJ'):\n",
    "        pos = wn.ADJ\n",
    "    elif tag.startswith('RB'):\n",
    "        pos = wn.ADV\n",
    "    else:\n",
    "        pos = wn.NOUN\n",
    "    lemmatized_token = lemmatizer.lemmatize(token, pos=pos)\n",
    "    lemmatized_tokens.append(lemmatized_token)"
   ]
  },
  {
   "cell_type": "code",
   "execution_count": 11,
   "id": "6000c91f",
   "metadata": {},
   "outputs": [
    {
     "ename": "AttributeError",
     "evalue": "'TfidfVectorizer' object has no attribute 'get_feature_names'",
     "output_type": "error",
     "traceback": [
      "\u001b[0;31m---------------------------------------------------------------------------\u001b[0m",
      "\u001b[0;31mAttributeError\u001b[0m                            Traceback (most recent call last)",
      "Cell \u001b[0;32mIn[11], line 3\u001b[0m\n\u001b[1;32m      1\u001b[0m tfidf \u001b[38;5;241m=\u001b[39m TfidfVectorizer()\n\u001b[1;32m      2\u001b[0m tfidf_matrix \u001b[38;5;241m=\u001b[39m tfidf\u001b[38;5;241m.\u001b[39mfit_transform([document])\n\u001b[0;32m----> 3\u001b[0m feature_names \u001b[38;5;241m=\u001b[39m \u001b[43mtfidf\u001b[49m\u001b[38;5;241;43m.\u001b[39;49m\u001b[43mget_feature_names\u001b[49m()\n\u001b[1;32m      4\u001b[0m tfidf_scores \u001b[38;5;241m=\u001b[39m tfidf_matrix\u001b[38;5;241m.\u001b[39mtodense()\u001b[38;5;241m.\u001b[39mtolist()[\u001b[38;5;241m0\u001b[39m]\n\u001b[1;32m      5\u001b[0m tfidf_dict \u001b[38;5;241m=\u001b[39m {}\n",
      "\u001b[0;31mAttributeError\u001b[0m: 'TfidfVectorizer' object has no attribute 'get_feature_names'"
     ]
    }
   ],
   "source": [
    "tfidf = TfidfVectorizer()\n",
    "tfidf_matrix = tfidf.fit_transform([document])\n",
    "feature_names = tfidf.get_feature_names()\n",
    "tfidf_scores = tfidf_matrix.todense().tolist()[0]\n",
    "tfidf_dict = {}\n",
    "for feature, score in zip(feature_names, tfidf_scores):\n",
    "    tfidf_dict[feature] = round(score, 2)"
   ]
  },
  {
   "cell_type": "code",
   "execution_count": 12,
   "id": "5a204394",
   "metadata": {},
   "outputs": [],
   "source": [
    "import nltk\n",
    "from nltk.tokenize import word_tokenize\n",
    "from nltk.corpus import stopwords\n",
    "from nltk.stem import PorterStemmer, WordNetLemmatizer\n",
    "from nltk.probability import FreqDist\n",
    "from nltk import pos_tag\n",
    "from nltk.corpus import wordnet as wn\n",
    "from sklearn.feature_extraction.text import TfidfVectorizer\n",
    "\n",
    "# Define sample document\n",
    "document = \"The quick brown fox jumps over the lazy dog. The dog is lazy, but the fox is quick. The fox and the dog are friends.\"\n",
    "\n",
    "# Tokenize the document\n",
    "tokens = word_tokenize(document)\n",
    "\n",
    "# Remove stop words\n",
    "stop_words = set(stopwords.words('english'))\n",
    "filtered_tokens = [token for token in tokens if token.lower() not in stop_words]\n",
    "\n",
    "# Perform POS tagging\n",
    "pos_tags = pos_tag(filtered_tokens)\n",
    "\n",
    "# Perform stemming\n",
    "ps = PorterStemmer()\n",
    "stemmed_tokens = [ps.stem(token) for token in filtered_tokens]\n",
    "\n",
    "# Perform lemmatization\n",
    "lemmatizer = WordNetLemmatizer()\n",
    "lemmatized_tokens = []\n",
    "for token, tag in pos_tags:\n",
    "        if tag.startswith('NN'):\n",
    "            pos = wn.NOUN\n",
    "        elif tag.startswith('VB'):\n",
    "            pos = wn.VERB\n",
    "        elif tag.startswith('JJ'):\n",
    "            pos = wn.ADJ\n",
    "        elif tag.startswith('RB'):\n",
    "            pos = wn.ADV\n",
    "        else:\n",
    "            pos = wn.NOUN\n",
    "lemmatized_token = lemmatizer.lemmatize(token, pos=pos)\n",
    "lemmatized_tokens.append(lemmatized_token)"
   ]
  },
  {
   "cell_type": "code",
   "execution_count": 13,
   "id": "e81a9dca",
   "metadata": {},
   "outputs": [
    {
     "ename": "AttributeError",
     "evalue": "'TfidfVectorizer' object has no attribute 'get_feature_names'",
     "output_type": "error",
     "traceback": [
      "\u001b[0;31m---------------------------------------------------------------------------\u001b[0m",
      "\u001b[0;31mAttributeError\u001b[0m                            Traceback (most recent call last)",
      "Cell \u001b[0;32mIn[13], line 3\u001b[0m\n\u001b[1;32m      1\u001b[0m tfidf \u001b[38;5;241m=\u001b[39m TfidfVectorizer()\n\u001b[1;32m      2\u001b[0m tfidf_matrix \u001b[38;5;241m=\u001b[39m tfidf\u001b[38;5;241m.\u001b[39mfit_transform([document])\n\u001b[0;32m----> 3\u001b[0m feature_names \u001b[38;5;241m=\u001b[39m \u001b[43mtfidf\u001b[49m\u001b[38;5;241;43m.\u001b[39;49m\u001b[43mget_feature_names\u001b[49m()\n\u001b[1;32m      4\u001b[0m tfidf_scores \u001b[38;5;241m=\u001b[39m tfidf_matrix\u001b[38;5;241m.\u001b[39mtodense()\u001b[38;5;241m.\u001b[39mtolist()[\u001b[38;5;241m0\u001b[39m]\n\u001b[1;32m      5\u001b[0m tfidf_dict \u001b[38;5;241m=\u001b[39m {}\n",
      "\u001b[0;31mAttributeError\u001b[0m: 'TfidfVectorizer' object has no attribute 'get_feature_names'"
     ]
    }
   ],
   "source": [
    "tfidf = TfidfVectorizer()\n",
    "tfidf_matrix = tfidf.fit_transform([document])\n",
    "feature_names = tfidf.get_feature_names()\n",
    "tfidf_scores = tfidf_matrix.todense().tolist()[0]\n",
    "tfidf_dict = {}\n",
    "for feature, score in zip(feature_names, tfidf_scores):\n",
    "    tfidf_dict[feature] = round(score, 2)"
   ]
  },
  {
   "cell_type": "code",
   "execution_count": 14,
   "id": "33573e29",
   "metadata": {},
   "outputs": [
    {
     "name": "stdout",
     "output_type": "stream",
     "text": [
      "Tokenized document: ['The', 'quick', 'brown', 'fox', 'jumps', 'over', 'the', 'lazy', 'dog', '.', 'The', 'dog', 'is', 'lazy', ',', 'but', 'the', 'fox', 'is', 'quick', '.', 'The', 'fox', 'and', 'the', 'dog', 'are', 'friends', '.']\n",
      "Filtered tokens: ['quick', 'brown', 'fox', 'jumps', 'lazy', 'dog', '.', 'dog', 'lazy', ',', 'fox', 'quick', '.', 'fox', 'dog', 'friends', '.']\n",
      "POS tagged tokens: [('quick', 'JJ'), ('brown', 'NN'), ('fox', 'NN'), ('jumps', 'NNS'), ('lazy', 'JJ'), ('dog', 'NN'), ('.', '.'), ('dog', 'NN'), ('lazy', 'NN'), (',', ','), ('fox', 'JJ'), ('quick', 'NN'), ('.', '.'), ('fox', 'JJ'), ('dog', 'NN'), ('friends', 'NNS'), ('.', '.')]\n",
      "Stemmed tokens: ['quick', 'brown', 'fox', 'jump', 'lazi', 'dog', '.', 'dog', 'lazi', ',', 'fox', 'quick', '.', 'fox', 'dog', 'friend', '.']\n",
      "Lemmatized tokens: ['.']\n"
     ]
    },
    {
     "ename": "NameError",
     "evalue": "name 'tfidf_dict' is not defined",
     "output_type": "error",
     "traceback": [
      "\u001b[0;31m---------------------------------------------------------------------------\u001b[0m",
      "\u001b[0;31mNameError\u001b[0m                                 Traceback (most recent call last)",
      "Cell \u001b[0;32mIn[14], line 6\u001b[0m\n\u001b[1;32m      4\u001b[0m \u001b[38;5;28mprint\u001b[39m(\u001b[38;5;124m\"\u001b[39m\u001b[38;5;124mStemmed tokens:\u001b[39m\u001b[38;5;124m\"\u001b[39m, stemmed_tokens)\n\u001b[1;32m      5\u001b[0m \u001b[38;5;28mprint\u001b[39m(\u001b[38;5;124m\"\u001b[39m\u001b[38;5;124mLemmatized tokens:\u001b[39m\u001b[38;5;124m\"\u001b[39m, lemmatized_tokens)\n\u001b[0;32m----> 6\u001b[0m \u001b[38;5;28mprint\u001b[39m(\u001b[38;5;124m\"\u001b[39m\u001b[38;5;124mTF-IDF scores:\u001b[39m\u001b[38;5;124m\"\u001b[39m, \u001b[43mtfidf_dict\u001b[49m)\n",
      "\u001b[0;31mNameError\u001b[0m: name 'tfidf_dict' is not defined"
     ]
    }
   ],
   "source": [
    "print(\"Tokenized document:\", tokens)\n",
    "print(\"Filtered tokens:\", filtered_tokens)\n",
    "print(\"POS tagged tokens:\", pos_tags)\n",
    "print(\"Stemmed tokens:\", stemmed_tokens)\n",
    "print(\"Lemmatized tokens:\", lemmatized_tokens)\n",
    "print(\"TF-IDF scores:\", tfidf_dict)"
   ]
  },
  {
   "cell_type": "code",
   "execution_count": null,
   "id": "9e995f20",
   "metadata": {},
   "outputs": [],
   "source": []
  }
 ],
 "metadata": {
  "kernelspec": {
   "display_name": "Python 3 (ipykernel)",
   "language": "python",
   "name": "python3"
  },
  "language_info": {
   "codemirror_mode": {
    "name": "ipython",
    "version": 3
   },
   "file_extension": ".py",
   "mimetype": "text/x-python",
   "name": "python",
   "nbconvert_exporter": "python",
   "pygments_lexer": "ipython3",
   "version": "3.10.9"
  }
 },
 "nbformat": 4,
 "nbformat_minor": 5
}
